{
 "cells": [
  {
   "cell_type": "code",
   "execution_count": 1,
   "id": "516d7f47",
   "metadata": {},
   "outputs": [],
   "source": [
    "import numpy as np\n",
    "import networkx as nx\n",
    "import os\n",
    "import pandas as pd\n",
    "import random\n",
    "import time\n",
    "import json"
   ]
  },
  {
   "cell_type": "code",
   "execution_count": 2,
   "id": "790a61ce",
   "metadata": {},
   "outputs": [],
   "source": [
    "datadir = '/data/zilu/cnt/'\n",
    "# I put all bundle folders into one directory \n",
    "# Part1, Part2, Part3, Part4, Part5, and Part6, Part 7\n",
    "# notice the part 1-5 are for training and validation (Ord)\n",
    "# part 6 is only for validation [1164, 1179] (Large)\n",
    "# part 7 is only for validation [1180, 1182] (Extra)"
   ]
  },
  {
   "cell_type": "code",
   "execution_count": 3,
   "id": "601123fd",
   "metadata": {},
   "outputs": [
    {
     "name": "stdout",
     "output_type": "stream",
     "text": [
      "1182\n"
     ]
    }
   ],
   "source": [
    "allfiles = os.listdir(datadir)\n",
    "allfiles.remove('.DS_Store')\n",
    "print(len(allfiles))"
   ]
  },
  {
   "cell_type": "code",
   "execution_count": 4,
   "id": "0d2f2486",
   "metadata": {},
   "outputs": [
    {
     "name": "stdout",
     "output_type": "stream",
     "text": [
      "22\n",
      "['579', '584', '585', '575', '459', '589', '211', '530', '571', '583', '582', '573', '587', '574', '198', '577', '576', '581', '572', '578', '588', '586']\n"
     ]
    }
   ],
   "source": [
    "emptyfiles = []\n",
    "for fn in allfiles:\n",
    "    path = datadir + fn\n",
    "    if len(os.listdir(path)) == 0:\n",
    "        emptyfiles.append(fn)\n",
    "print(len(emptyfiles))\n",
    "print(emptyfiles)\n",
    "# we shall remove all emtpy files"
   ]
  },
  {
   "cell_type": "markdown",
   "id": "60128d7f",
   "metadata": {},
   "source": [
    "### retrive availabel files"
   ]
  },
  {
   "cell_type": "code",
   "execution_count": 5,
   "id": "da213d37",
   "metadata": {},
   "outputs": [],
   "source": [
    "data = pd.read_csv('/data/zilu/hsgnn/data.csv', index_col=0) \n",
    "# I have pre-porcessed the original results.xlsx into data.csv for good format"
   ]
  },
  {
   "cell_type": "code",
   "execution_count": 6,
   "id": "ef77f514",
   "metadata": {},
   "outputs": [
    {
     "data": {
      "text/html": [
       "<div>\n",
       "<style scoped>\n",
       "    .dataframe tbody tr th:only-of-type {\n",
       "        vertical-align: middle;\n",
       "    }\n",
       "\n",
       "    .dataframe tbody tr th {\n",
       "        vertical-align: top;\n",
       "    }\n",
       "\n",
       "    .dataframe thead th {\n",
       "        text-align: right;\n",
       "    }\n",
       "</style>\n",
       "<table border=\"1\" class=\"dataframe\">\n",
       "  <thead>\n",
       "    <tr style=\"text-align: right;\">\n",
       "      <th></th>\n",
       "      <th>File name</th>\n",
       "      <th># of Tubes</th>\n",
       "      <th># walls per CNT</th>\n",
       "      <th># of Atoms</th>\n",
       "      <th># of Bonds</th>\n",
       "      <th>Bond Ratio</th>\n",
       "      <th>CNT height</th>\n",
       "      <th>Initial Dia (Ang.)</th>\n",
       "      <th>Initial Dia (nm)</th>\n",
       "      <th>Cross-sectional area (nm^2)</th>\n",
       "      <th>Strain at Break</th>\n",
       "      <th>1/2 Stress (GPa)</th>\n",
       "      <th>1/2 Strain</th>\n",
       "      <th>Strength (GPa)</th>\n",
       "      <th>Elastic Modulus (GPa)</th>\n",
       "    </tr>\n",
       "    <tr>\n",
       "      <th>File #</th>\n",
       "      <th></th>\n",
       "      <th></th>\n",
       "      <th></th>\n",
       "      <th></th>\n",
       "      <th></th>\n",
       "      <th></th>\n",
       "      <th></th>\n",
       "      <th></th>\n",
       "      <th></th>\n",
       "      <th></th>\n",
       "      <th></th>\n",
       "      <th></th>\n",
       "      <th></th>\n",
       "      <th></th>\n",
       "      <th></th>\n",
       "    </tr>\n",
       "  </thead>\n",
       "  <tbody>\n",
       "    <tr>\n",
       "      <th>1</th>\n",
       "      <td>001-2N2M2</td>\n",
       "      <td>2.0</td>\n",
       "      <td>1.0</td>\n",
       "      <td>160.0</td>\n",
       "      <td>236.0</td>\n",
       "      <td>1.475000</td>\n",
       "      <td>24.169428</td>\n",
       "      <td>2.71</td>\n",
       "      <td>0.271</td>\n",
       "      <td>0.665705</td>\n",
       "      <td>0.236</td>\n",
       "      <td>27.573717</td>\n",
       "      <td>0.117</td>\n",
       "      <td>45.465992</td>\n",
       "      <td>101.576473</td>\n",
       "    </tr>\n",
       "    <tr>\n",
       "      <th>2</th>\n",
       "      <td>002-2N3M3</td>\n",
       "      <td>2.0</td>\n",
       "      <td>1.0</td>\n",
       "      <td>240.0</td>\n",
       "      <td>354.0</td>\n",
       "      <td>1.475000</td>\n",
       "      <td>24.498940</td>\n",
       "      <td>4.07</td>\n",
       "      <td>0.407</td>\n",
       "      <td>0.972903</td>\n",
       "      <td>0.248</td>\n",
       "      <td>35.445715</td>\n",
       "      <td>0.123</td>\n",
       "      <td>53.955534</td>\n",
       "      <td>311.154075</td>\n",
       "    </tr>\n",
       "    <tr>\n",
       "      <th>3</th>\n",
       "      <td>003-2N4M4</td>\n",
       "      <td>2.0</td>\n",
       "      <td>1.0</td>\n",
       "      <td>320.0</td>\n",
       "      <td>472.0</td>\n",
       "      <td>1.475000</td>\n",
       "      <td>24.828452</td>\n",
       "      <td>5.42</td>\n",
       "      <td>0.542</td>\n",
       "      <td>1.335309</td>\n",
       "      <td>0.259</td>\n",
       "      <td>42.759140</td>\n",
       "      <td>0.129</td>\n",
       "      <td>60.186624</td>\n",
       "      <td>418.153307</td>\n",
       "    </tr>\n",
       "    <tr>\n",
       "      <th>4</th>\n",
       "      <td>004-2N5M5</td>\n",
       "      <td>2.0</td>\n",
       "      <td>1.0</td>\n",
       "      <td>400.0</td>\n",
       "      <td>590.0</td>\n",
       "      <td>1.475000</td>\n",
       "      <td>25.157964</td>\n",
       "      <td>6.78</td>\n",
       "      <td>0.678</td>\n",
       "      <td>1.758293</td>\n",
       "      <td>0.258</td>\n",
       "      <td>38.734551</td>\n",
       "      <td>0.128</td>\n",
       "      <td>56.084452</td>\n",
       "      <td>447.525699</td>\n",
       "    </tr>\n",
       "    <tr>\n",
       "      <th>5</th>\n",
       "      <td>005-3N2M2</td>\n",
       "      <td>3.0</td>\n",
       "      <td>1.0</td>\n",
       "      <td>240.0</td>\n",
       "      <td>356.0</td>\n",
       "      <td>1.483333</td>\n",
       "      <td>24.169428</td>\n",
       "      <td>2.71</td>\n",
       "      <td>0.271</td>\n",
       "      <td>0.998558</td>\n",
       "      <td>0.238</td>\n",
       "      <td>39.745454</td>\n",
       "      <td>0.118</td>\n",
       "      <td>60.503616</td>\n",
       "      <td>162.529792</td>\n",
       "    </tr>\n",
       "  </tbody>\n",
       "</table>\n",
       "</div>"
      ],
      "text/plain": [
       "        File name  # of Tubes  # walls per CNT  # of Atoms  # of Bonds  \\\n",
       "File #                                                                   \n",
       "1       001-2N2M2         2.0              1.0       160.0       236.0   \n",
       "2       002-2N3M3         2.0              1.0       240.0       354.0   \n",
       "3       003-2N4M4         2.0              1.0       320.0       472.0   \n",
       "4       004-2N5M5         2.0              1.0       400.0       590.0   \n",
       "5       005-3N2M2         3.0              1.0       240.0       356.0   \n",
       "\n",
       "        Bond Ratio  CNT height  Initial Dia (Ang.)  Initial Dia (nm)  \\\n",
       "File #                                                                 \n",
       "1         1.475000   24.169428                2.71             0.271   \n",
       "2         1.475000   24.498940                4.07             0.407   \n",
       "3         1.475000   24.828452                5.42             0.542   \n",
       "4         1.475000   25.157964                6.78             0.678   \n",
       "5         1.483333   24.169428                2.71             0.271   \n",
       "\n",
       "        Cross-sectional area (nm^2)  Strain at Break  1/2 Stress (GPa)  \\\n",
       "File #                                                                   \n",
       "1                          0.665705            0.236         27.573717   \n",
       "2                          0.972903            0.248         35.445715   \n",
       "3                          1.335309            0.259         42.759140   \n",
       "4                          1.758293            0.258         38.734551   \n",
       "5                          0.998558            0.238         39.745454   \n",
       "\n",
       "        1/2 Strain  Strength (GPa)  Elastic Modulus (GPa)  \n",
       "File #                                                     \n",
       "1            0.117       45.465992             101.576473  \n",
       "2            0.123       53.955534             311.154075  \n",
       "3            0.129       60.186624             418.153307  \n",
       "4            0.128       56.084452             447.525699  \n",
       "5            0.118       60.503616             162.529792  "
      ]
     },
     "execution_count": 6,
     "metadata": {},
     "output_type": "execute_result"
    }
   ],
   "source": [
    "data.head()"
   ]
  },
  {
   "cell_type": "code",
   "execution_count": 7,
   "id": "7b9401f7",
   "metadata": {},
   "outputs": [
    {
     "data": {
      "text/html": [
       "<div>\n",
       "<style scoped>\n",
       "    .dataframe tbody tr th:only-of-type {\n",
       "        vertical-align: middle;\n",
       "    }\n",
       "\n",
       "    .dataframe tbody tr th {\n",
       "        vertical-align: top;\n",
       "    }\n",
       "\n",
       "    .dataframe thead th {\n",
       "        text-align: right;\n",
       "    }\n",
       "</style>\n",
       "<table border=\"1\" class=\"dataframe\">\n",
       "  <thead>\n",
       "    <tr style=\"text-align: right;\">\n",
       "      <th></th>\n",
       "      <th>File name</th>\n",
       "      <th># of Tubes</th>\n",
       "      <th># walls per CNT</th>\n",
       "      <th># of Atoms</th>\n",
       "      <th># of Bonds</th>\n",
       "      <th>Bond Ratio</th>\n",
       "      <th>CNT height</th>\n",
       "      <th>Initial Dia (Ang.)</th>\n",
       "      <th>Initial Dia (nm)</th>\n",
       "      <th>Cross-sectional area (nm^2)</th>\n",
       "      <th>Strain at Break</th>\n",
       "      <th>1/2 Stress (GPa)</th>\n",
       "      <th>1/2 Strain</th>\n",
       "      <th>Strength (GPa)</th>\n",
       "      <th>Elastic Modulus (GPa)</th>\n",
       "    </tr>\n",
       "    <tr>\n",
       "      <th>File #</th>\n",
       "      <th></th>\n",
       "      <th></th>\n",
       "      <th></th>\n",
       "      <th></th>\n",
       "      <th></th>\n",
       "      <th></th>\n",
       "      <th></th>\n",
       "      <th></th>\n",
       "      <th></th>\n",
       "      <th></th>\n",
       "      <th></th>\n",
       "      <th></th>\n",
       "      <th></th>\n",
       "      <th></th>\n",
       "      <th></th>\n",
       "    </tr>\n",
       "  </thead>\n",
       "  <tbody>\n",
       "    <tr>\n",
       "      <th>1178</th>\n",
       "      <td>1178-16TWCNT12_15_18_frac</td>\n",
       "      <td>16.0</td>\n",
       "      <td>3.0</td>\n",
       "      <td>28704.0</td>\n",
       "      <td>42696.0</td>\n",
       "      <td>1.487458</td>\n",
       "      <td>24.595121</td>\n",
       "      <td>24.41</td>\n",
       "      <td>2.441</td>\n",
       "      <td>100.003693</td>\n",
       "      <td>0.223776</td>\n",
       "      <td>66.414990</td>\n",
       "      <td>0.110889</td>\n",
       "      <td>95.454832</td>\n",
       "      <td>755.997724</td>\n",
       "    </tr>\n",
       "    <tr>\n",
       "      <th>1179</th>\n",
       "      <td>1179-Colomer_64DWCNT14_7</td>\n",
       "      <td>64.0</td>\n",
       "      <td>2.0</td>\n",
       "      <td>78080.0</td>\n",
       "      <td>117120.0</td>\n",
       "      <td>1.500000</td>\n",
       "      <td>41.705664</td>\n",
       "      <td>14.50</td>\n",
       "      <td>1.450</td>\n",
       "      <td>168.334074</td>\n",
       "      <td>0.287712</td>\n",
       "      <td>67.835992</td>\n",
       "      <td>0.142857</td>\n",
       "      <td>123.201399</td>\n",
       "      <td>268.928583</td>\n",
       "    </tr>\n",
       "    <tr>\n",
       "      <th>1180</th>\n",
       "      <td>1180-5_9nmexperimental_bundle</td>\n",
       "      <td>60.0</td>\n",
       "      <td>2.0</td>\n",
       "      <td>102960.0</td>\n",
       "      <td>154440.0</td>\n",
       "      <td>1.500000</td>\n",
       "      <td>12.597300</td>\n",
       "      <td>59.00</td>\n",
       "      <td>5.900</td>\n",
       "      <td>1858.490816</td>\n",
       "      <td>0.170400</td>\n",
       "      <td>28.548106</td>\n",
       "      <td>0.085100</td>\n",
       "      <td>46.122525</td>\n",
       "      <td>523.450000</td>\n",
       "    </tr>\n",
       "    <tr>\n",
       "      <th>1181</th>\n",
       "      <td>1181-60_degree_junc</td>\n",
       "      <td>1.0</td>\n",
       "      <td>1.0</td>\n",
       "      <td>9590.0</td>\n",
       "      <td>14374.0</td>\n",
       "      <td>1.498853</td>\n",
       "      <td>468.800000</td>\n",
       "      <td>10.96</td>\n",
       "      <td>1.096</td>\n",
       "      <td>1.711050</td>\n",
       "      <td>0.090000</td>\n",
       "      <td>34.148351</td>\n",
       "      <td>0.049500</td>\n",
       "      <td>60.306156</td>\n",
       "      <td>729.916191</td>\n",
       "    </tr>\n",
       "    <tr>\n",
       "      <th>1182</th>\n",
       "      <td>1182-90_degree_junc</td>\n",
       "      <td>1.0</td>\n",
       "      <td>1.0</td>\n",
       "      <td>9138.0</td>\n",
       "      <td>13700.0</td>\n",
       "      <td>1.499234</td>\n",
       "      <td>468.800000</td>\n",
       "      <td>10.96</td>\n",
       "      <td>1.096</td>\n",
       "      <td>1.711050</td>\n",
       "      <td>0.088600</td>\n",
       "      <td>30.599199</td>\n",
       "      <td>0.044200</td>\n",
       "      <td>55.370933</td>\n",
       "      <td>728.550546</td>\n",
       "    </tr>\n",
       "  </tbody>\n",
       "</table>\n",
       "</div>"
      ],
      "text/plain": [
       "                            File name  # of Tubes  # walls per CNT  \\\n",
       "File #                                                               \n",
       "1178        1178-16TWCNT12_15_18_frac        16.0              3.0   \n",
       "1179         1179-Colomer_64DWCNT14_7        64.0              2.0   \n",
       "1180    1180-5_9nmexperimental_bundle        60.0              2.0   \n",
       "1181              1181-60_degree_junc         1.0              1.0   \n",
       "1182              1182-90_degree_junc         1.0              1.0   \n",
       "\n",
       "        # of Atoms  # of Bonds  Bond Ratio  CNT height  Initial Dia (Ang.)  \\\n",
       "File #                                                                       \n",
       "1178       28704.0     42696.0    1.487458   24.595121               24.41   \n",
       "1179       78080.0    117120.0    1.500000   41.705664               14.50   \n",
       "1180      102960.0    154440.0    1.500000   12.597300               59.00   \n",
       "1181        9590.0     14374.0    1.498853  468.800000               10.96   \n",
       "1182        9138.0     13700.0    1.499234  468.800000               10.96   \n",
       "\n",
       "        Initial Dia (nm)  Cross-sectional area (nm^2)  Strain at Break  \\\n",
       "File #                                                                   \n",
       "1178               2.441                   100.003693         0.223776   \n",
       "1179               1.450                   168.334074         0.287712   \n",
       "1180               5.900                  1858.490816         0.170400   \n",
       "1181               1.096                     1.711050         0.090000   \n",
       "1182               1.096                     1.711050         0.088600   \n",
       "\n",
       "        1/2 Stress (GPa)  1/2 Strain  Strength (GPa)  Elastic Modulus (GPa)  \n",
       "File #                                                                       \n",
       "1178           66.414990    0.110889       95.454832             755.997724  \n",
       "1179           67.835992    0.142857      123.201399             268.928583  \n",
       "1180           28.548106    0.085100       46.122525             523.450000  \n",
       "1181           34.148351    0.049500       60.306156             729.916191  \n",
       "1182           30.599199    0.044200       55.370933             728.550546  "
      ]
     },
     "execution_count": 7,
     "metadata": {},
     "output_type": "execute_result"
    }
   ],
   "source": [
    "data.tail()"
   ]
  },
  {
   "cell_type": "code",
   "execution_count": 8,
   "id": "00e1c47c",
   "metadata": {},
   "outputs": [
    {
     "name": "stdout",
     "output_type": "stream",
     "text": [
      "1182\n"
     ]
    }
   ],
   "source": [
    "total_bundles = len(data) \n",
    "print(total_bundles)"
   ]
  },
  {
   "cell_type": "code",
   "execution_count": 53,
   "id": "70f1bff4",
   "metadata": {},
   "outputs": [],
   "source": [
    "nans, avails = [], []\n",
    "for i in range(total_bundles):\n",
    "    if pd.isnull(data.iloc[i]).any():\n",
    "        nans.append(data['File name'].iloc[i])\n",
    "    else:\n",
    "        avails.append(i+1)"
   ]
  },
  {
   "cell_type": "code",
   "execution_count": 54,
   "id": "8f42f069",
   "metadata": {},
   "outputs": [
    {
     "data": {
      "text/plain": [
       "(24, 1158)"
      ]
     },
     "execution_count": 54,
     "metadata": {},
     "output_type": "execute_result"
    }
   ],
   "source": [
    "len(nans), len(avails)"
   ]
  },
  {
   "cell_type": "code",
   "execution_count": 55,
   "id": "a9d83100",
   "metadata": {},
   "outputs": [
    {
     "name": "stdout",
     "output_type": "stream",
     "text": [
      "{'909-3N10M10_DC1_2', '910-4N10M10_DC1_2_3'}\n"
     ]
    }
   ],
   "source": [
    "print(set(nans).difference(emptyfiles))\n",
    "# those two structures do not finish the simulations, just ignore them"
   ]
  },
  {
   "cell_type": "code",
   "execution_count": 56,
   "id": "a01ad0f0",
   "metadata": {},
   "outputs": [],
   "source": [
    "fileIndices = avails\n",
    "idmapping = {row[0]: row[1]['File name'] for row in data.iterrows() if row[0] in fileIndices}\n",
    "if not os.path.exists('/data/zilu/files/cntmapping'):\n",
    "    with open('/data/zilu/files/cntmapping', 'w') as f:\n",
    "        f.write(json.dumps(idmapping))"
   ]
  },
  {
   "cell_type": "code",
   "execution_count": 59,
   "id": "334b3328",
   "metadata": {},
   "outputs": [],
   "source": [
    "OrdIndex = np.array([i for i in fileIndices if i <= 1163])\n",
    "LargeIndex = np.array([i for i in fileIndices if i>=1164 and i<=1179])\n",
    "ExtraIndex = np.array([i for i in fileIndices if i>=1180])\n",
    "np.save('/data/zilu/files/ord.npy', OrdIndex)\n",
    "np.save('/data/zilu/files/lrg.npy', LargeIndex)\n",
    "np.save('/data/zilu/files/ext.npy', ExtraIndex)"
   ]
  },
  {
   "cell_type": "code",
   "execution_count": 72,
   "id": "3b5abd63",
   "metadata": {},
   "outputs": [
    {
     "data": {
      "text/plain": [
       "['CNT-rip.data',\n",
       " 'Surface.data_edited',\n",
       " 'CNT-rip2.data',\n",
       " 'CNT-equib.data',\n",
       " 'Surface.data',\n",
       " 'Surface_w_cg1_and_cge.data',\n",
       " 'CNT-equib2.data']"
      ]
     },
     "execution_count": 72,
     "metadata": {},
     "output_type": "execute_result"
    }
   ],
   "source": [
    "os.listdir('/data/zilu/cnt/001-2N2M2')"
   ]
  },
  {
   "cell_type": "markdown",
   "id": "a7176488",
   "metadata": {},
   "source": [
    "## rename the simulated strucutre into 'exp.data' for unified use"
   ]
  },
  {
   "cell_type": "code",
   "execution_count": 97,
   "id": "1bcb41d2",
   "metadata": {},
   "outputs": [],
   "source": [
    "for cnt in os.listdir(datadir):\n",
    "    if cnt == '.DS_Store' or cnt in nans:\n",
    "        continue\n",
    "    allfiles = os.listdir(os.path.join(datadir, cnt))\n",
    "    if 'CNT-equib.data' in allfiles:\n",
    "        shutil.copy(os.path.join(datadir+cnt, 'CNT-equib.data'), os.path.join(datadir+cnt, 'exp.data'))\n",
    "    \n",
    "    elif 'cnt-equib.data' in allfiles:\n",
    "        shutil.copy(os.path.join(datadir+cnt, 'cnt-equib.data'), os.path.join(datadir+cnt, 'exp.data'))\n",
    "    \n",
    "    elif 'CNT.data' in allfiles:\n",
    "        shutil.copy(os.path.join(datadir+cnt, 'CNT.data'), os.path.join(datadir+cnt, 'exp.data'))\n",
    "    \n",
    "    elif 'cnt.data' in allfiles:\n",
    "        shutil.copy(os.path.join(datadir+cnt, 'cnt.data'), os.path.join(datadir+cnt, 'exp.data'))\n",
    "        \n",
    "    else: # Part 2 naming convention is different\n",
    "        dataname = cnt[4:] + '.data'\n",
    "        shutil.copy(os.path.join(datadir+cnt, dataname), os.path.join(datadir+cnt, 'exp.data'))\n",
    "        "
   ]
  },
  {
   "cell_type": "code",
   "execution_count": 99,
   "id": "a90d51c4",
   "metadata": {},
   "outputs": [
    {
     "data": {
      "text/plain": [
       "['CNT-rip.data',\n",
       " 'Surface.data_edited',\n",
       " 'CNT-rip2.data',\n",
       " 'exp.data',\n",
       " 'CNT-equib.data',\n",
       " 'Surface.data',\n",
       " 'Surface_w_cg1_and_cge.data',\n",
       " 'CNT-equib2.data']"
      ]
     },
     "execution_count": 99,
     "metadata": {},
     "output_type": "execute_result"
    }
   ],
   "source": [
    "os.listdir('/data/zilu/cnt/001-2N2M2')"
   ]
  },
  {
   "cell_type": "code",
   "execution_count": null,
   "id": "be28299b",
   "metadata": {},
   "outputs": [],
   "source": []
  }
 ],
 "metadata": {
  "kernelspec": {
   "display_name": "Python 3 (ipykernel)",
   "language": "python",
   "name": "python3"
  },
  "language_info": {
   "codemirror_mode": {
    "name": "ipython",
    "version": 3
   },
   "file_extension": ".py",
   "mimetype": "text/x-python",
   "name": "python",
   "nbconvert_exporter": "python",
   "pygments_lexer": "ipython3",
   "version": "3.9.12"
  }
 },
 "nbformat": 4,
 "nbformat_minor": 5
}
